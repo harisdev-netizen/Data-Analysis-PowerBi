{
 "cells": [
  {
   "cell_type": "markdown",
   "metadata": {},
   "source": [
    "# Assigning values to an array using a loop"
   ]
  },
  {
   "cell_type": "markdown",
   "metadata": {},
   "source": [
    "### Import the numpy library to work with"
   ]
  },
  {
   "cell_type": "code",
   "execution_count": 1,
   "metadata": {},
   "outputs": [],
   "source": [
    "import numpy as np"
   ]
  },
  {
   "cell_type": "markdown",
   "metadata": {},
   "source": [
    "#### Initialize the array by cleaning out all the values before we can populate it"
   ]
  },
  {
   "cell_type": "code",
   "execution_count": 2,
   "metadata": {},
   "outputs": [],
   "source": [
    "temp_array = []"
   ]
  },
  {
   "cell_type": "markdown",
   "metadata": {},
   "source": [
    "- Load all the data into a variable by using a built-in python methods/functions named readlines(), which takes all the hard work out of reading all the rows of a file until the last line is found, which is commonly known as \"EOF\" (End of File).\n",
    "\n",
    "- Load all the data into a variable by using a built-in python methods/functions named readlines(), which takes all the hard work out of reading all the rows of a file until the last line is found, which is commonly known as \"EOF\" (End of File).\n",
    "\n",
    "- Loop through each individual record\n",
    "\n",
    "- Strip out a value from each record by using another loop to split the values for each field found in each row. This method is used to break up the line into individual values which are addressable by the next line of code.\n",
    "\n",
    "- Remove the whitespaces from each value before assigning it to a temporary array using the replace function\n",
    "\n",
    "- Assign each value to the new array by element which populates the temp_array by appending the values from clean_value_from_line"
   ]
  },
  {
   "cell_type": "code",
   "execution_count": 3,
   "metadata": {},
   "outputs": [],
   "source": [
    "#A. Read the file into memory\n",
    "with open('../data/AAPL_stock_price_example.csv', 'r') as input_file:\n",
    "    \n",
    "    #B. load all the data into a variable\n",
    "    all_lines_from_input_file = input_file.readlines()\n",
    "    \n",
    "    #C. Loop through each individual record \n",
    "    for each_individual_line in all_lines_from_input_file:\n",
    "\n",
    "        #D. Strip out a value from each record\n",
    "        for value_from_line in each_individual_line.rsplit(',')[1:]:\n",
    "            \n",
    "            #E.  Remove the whitespaces from each value\n",
    "            clean_value_from_line = value_from_line.replace(\"\\n\", \"\") \n",
    "            \n",
    "            #F.  Assign each value to the new array by element\n",
    "            temp_array.append(clean_value_from_line)"
   ]
  },
  {
   "cell_type": "markdown",
   "metadata": {},
   "source": [
    "#### After the temp_array is populated with elements, a quick print() function identifies another data cleanup step that is required to move forward."
   ]
  },
  {
   "cell_type": "code",
   "execution_count": 4,
   "metadata": {},
   "outputs": [
    {
     "name": "stdout",
     "output_type": "stream",
     "text": [
      "['Close', '157.919998', '142.190002', '148.259995', '147.929993']\n"
     ]
    }
   ],
   "source": [
    "print(temp_array[:5])"
   ]
  },
  {
   "cell_type": "markdown",
   "metadata": {},
   "source": [
    "#### The header row from the file has been included in our array which is easily removed by assigning the array to itself and removing the first element using the delete() function."
   ]
  },
  {
   "cell_type": "code",
   "execution_count": 5,
   "metadata": {},
   "outputs": [],
   "source": [
    "temp_array = np.delete(temp_array,0)"
   ]
  },
  {
   "cell_type": "markdown",
   "metadata": {},
   "source": [
    "#### Confirm the size of the array matches the original source input file which had 229 rows."
   ]
  },
  {
   "cell_type": "code",
   "execution_count": 6,
   "metadata": {},
   "outputs": [
    {
     "data": {
      "text/plain": [
       "229"
      ]
     },
     "execution_count": 6,
     "metadata": {},
     "output_type": "execute_result"
    }
   ],
   "source": [
    "temp_array.size"
   ]
  },
  {
   "cell_type": "markdown",
   "metadata": {},
   "source": [
    "#### The data type of the array has single quotes around each element. This can be remedied using a simple command from the astype() method by converting the \"dtype\" of the array to float since the stock prices are decimal numeric values."
   ]
  },
  {
   "cell_type": "code",
   "execution_count": 7,
   "metadata": {},
   "outputs": [],
   "source": [
    "input_stock_price_array = temp_array.astype(float)"
   ]
  },
  {
   "cell_type": "markdown",
   "metadata": {},
   "source": [
    "#### Print the first few elements in the array verify the array has cleaned elements"
   ]
  },
  {
   "cell_type": "code",
   "execution_count": 8,
   "metadata": {},
   "outputs": [
    {
     "name": "stdout",
     "output_type": "stream",
     "text": [
      "[157.919998 142.190002 148.259995 147.929993 150.75    ]\n"
     ]
    }
   ],
   "source": [
    "print(input_stock_price_array[:5])"
   ]
  },
  {
   "cell_type": "markdown",
   "metadata": {},
   "source": [
    "#### The last few steps are a repeat from the prior exercise which includes sorting the array in descending order using the sort() function and printing the first few elements in the array to display the highest price by referencing the first sorted element in sorted_stock_price_array using the print() and then use the \"[0]\" command to find the highest price from the sorted array."
   ]
  },
  {
   "cell_type": "code",
   "execution_count": 9,
   "metadata": {},
   "outputs": [],
   "source": [
    "sorted_stock_price_array = np.sort(input_stock_price_array)[::-1]"
   ]
  },
  {
   "cell_type": "code",
   "execution_count": 10,
   "metadata": {},
   "outputs": [
    {
     "name": "stdout",
     "output_type": "stream",
     "text": [
      "Closing stock price in order of day traded:     [157.919998 142.190002 148.259995 147.929993 150.75    ]\n",
      "Closing stock price in order from high to low:  [267.100006 266.369995 266.290009 265.76001  264.470001]\n"
     ]
    }
   ],
   "source": [
    "print('Closing stock price in order of day traded:    ', input_stock_price_array[:5])\n",
    "print('Closing stock price in order from high to low: ', sorted_stock_price_array[:5]) "
   ]
  },
  {
   "cell_type": "code",
   "execution_count": 11,
   "metadata": {},
   "outputs": [
    {
     "name": "stdout",
     "output_type": "stream",
     "text": [
      "Highest closing stock price:  267.100006\n"
     ]
    }
   ],
   "source": [
    "print('Highest closing stock price: ', sorted_stock_price_array[0])"
   ]
  }
 ],
 "metadata": {
  "kernelspec": {
   "display_name": "Python 3",
   "language": "python",
   "name": "python3"
  },
  "language_info": {
   "codemirror_mode": {
    "name": "ipython",
    "version": 3
   },
   "file_extension": ".py",
   "mimetype": "text/x-python",
   "name": "python",
   "nbconvert_exporter": "python",
   "pygments_lexer": "ipython3",
   "version": "3.11.5"
  }
 },
 "nbformat": 4,
 "nbformat_minor": 2
}
